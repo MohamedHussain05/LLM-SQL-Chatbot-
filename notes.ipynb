{
 "cells": [
  {
   "cell_type": "markdown",
   "metadata": {},
   "source": [
    "## create_sql_agent:\n",
    "This function is used to create an agent that can interact with SQL databases. The agent can generate SQL queries based on natural language input and execute them to retrieve data.\n",
    "## SQLDatabase:\n",
    "This class represents the SQL database you want to interact with. It provides methods to connect to the database and execute SQL queries.\n",
    "## AgentType:\n",
    "This module defines different types of agents. In this context, it helps specify the type of agent being created, which in this case is an SQL agent.\n",
    "## StreamlitCallbackHandler:\n",
    "This callback handler is used to integrate the agent with Streamlit, a popular framework for creating web applications. It allows the agent to send updates and results to a Streamlit app in real-time.\n",
    "## SQLDatabaseToolkit:\n",
    "This toolkit provides additional tools and utilities for working with SQL databases. It includes functions for creating and executing queries, checking query syntax, and retrieving table descriptions."
   ]
  },
  {
   "cell_type": "markdown",
   "metadata": {},
   "source": [
    "## create_engine\n",
    "The create_engine function from SQLAlchemy is used to establish a connection to a database. It takes a connection URL and returns an engine object that represents the connection"
   ]
  },
  {
   "cell_type": "markdown",
   "metadata": {},
   "source": []
  },
  {
   "cell_type": "code",
   "execution_count": 1,
   "metadata": {},
   "outputs": [],
   "source": [
    "radio_opt=['Use SQLITE3 Database','Use Your Own DataBase']"
   ]
  },
  {
   "cell_type": "code",
   "execution_count": 5,
   "metadata": {},
   "outputs": [
    {
     "name": "stdout",
     "output_type": "stream",
     "text": [
      "selected 1\n"
     ]
    }
   ],
   "source": [
    "if radio_opt.index('Use Your Own DataBase')==0:\n",
    "    print('selected 0')\n",
    "else:\n",
    "    print('selected 1')"
   ]
  }
 ],
 "metadata": {
  "kernelspec": {
   "display_name": "Python 3",
   "language": "python",
   "name": "python3"
  },
  "language_info": {
   "codemirror_mode": {
    "name": "ipython",
    "version": 3
   },
   "file_extension": ".py",
   "mimetype": "text/x-python",
   "name": "python",
   "nbconvert_exporter": "python",
   "pygments_lexer": "ipython3",
   "version": "3.10.14"
  }
 },
 "nbformat": 4,
 "nbformat_minor": 2
}
